{
  "nbformat": 4,
  "nbformat_minor": 0,
  "metadata": {
    "colab": {
      "provenance": [],
      "collapsed_sections": []
    },
    "kernelspec": {
      "name": "python3",
      "display_name": "Python 3"
    },
    "language_info": {
      "name": "python"
    },
    "accelerator": "GPU",
    "gpuClass": "standard"
  },
  "cells": [
    {
      "cell_type": "code",
      "execution_count": null,
      "metadata": {
        "id": "JmMaYHSMSQ_v"
      },
      "outputs": [],
      "source": [
        "import torch\n",
        "import torch.nn as nn\n",
        "from torchvision import transforms,datasets\n",
        "from torchvision.utils import make_grid as grid_creation\n",
        "from torch.utils.data import DataLoader\n",
        "\n",
        "from matplotlib import pyplot as plt\n",
        "import numpy as np\n",
        "\n",
        "import os"
      ]
    },
    {
      "cell_type": "code",
      "source": [
        "IMAGE_DIM = 64\n",
        "BATCH_SIZE = 64\n",
        "NOISE_DIM = 100\n",
        "NUM_EPOCHS = 400\n",
        "ALPHA = 5e-5\n",
        "CLAMP_VALUE = 0.01\n",
        "NUM_EPOCH_PER_GENERATOR_UPDATE = 10\n",
        "NUM_EPOCH_PER_GENERATOR_TEST = 40"
      ],
      "metadata": {
        "id": "kaa5IzVcZugb"
      },
      "execution_count": null,
      "outputs": []
    },
    {
      "cell_type": "code",
      "source": [
        "PATH = \"./\""
      ],
      "metadata": {
        "id": "-gzBLCP9-RLf"
      },
      "execution_count": null,
      "outputs": []
    },
    {
      "cell_type": "code",
      "source": [
        "transform = transforms.Compose([\n",
        "            transforms.Resize((IMAGE_DIM,IMAGE_DIM)),\n",
        "            transforms.CenterCrop(IMAGE_DIM),\n",
        "            transforms.ToTensor(),\n",
        "            transforms.Normalize((0.5, 0.5, 0.5), (0.5, 0.5, 0.5))\n",
        "            ])\n",
        "trainset = datasets.CIFAR10(PATH, train=True, download=True,\n",
        "                                                       transform=transform)\n",
        "trainloader = DataLoader(trainset, batch_size=BATCH_SIZE, shuffle=True, num_workers=2)\n",
        "\n",
        "#testset = datasets.CIFAR10(root=PATH, train=False,\n",
        "#                                       download=True, transform=transform)\n",
        "#testloader = DataLoader(testset, batch_size=BATCH_SIZE,shuffle=False, num_workers=2)\n",
        "\n",
        "device = torch.device(\"cuda\") if torch.cuda.is_available() else torch.device(\"cpu\")\n",
        "print(device)"
      ],
      "metadata": {
        "id": "awDA8KMZS4vn"
      },
      "execution_count": null,
      "outputs": []
    },
    {
      "cell_type": "code",
      "source": [
        "class Generator(nn.Module):\n",
        "    def __init__(self):\n",
        "        super(Generator, self).__init__()\n",
        "        self.model = nn.Sequential(\n",
        "            nn.ConvTranspose2d(NOISE_DIM, 512, 4, 1, 0, bias=False),\n",
        "            nn.BatchNorm2d(512),\n",
        "            nn.ReLU(True),\n",
        "\n",
        "            nn.ConvTranspose2d(512, 256, 4, 2, 1, bias=False),\n",
        "            nn.BatchNorm2d(256),\n",
        "            nn.ReLU(True),\n",
        "\n",
        "            nn.ConvTranspose2d(256, 128, 4, 2, 1, bias=False),\n",
        "            nn.BatchNorm2d(128),\n",
        "            nn.ReLU(True),\n",
        "\n",
        "            nn.ConvTranspose2d(128, 64, 4, 2, 1, bias=False),\n",
        "            nn.BatchNorm2d(64),\n",
        "            nn.ReLU(True),\n",
        "\n",
        "            nn.ConvTranspose2d(64, 3, 4, 2, 1),\n",
        "            nn.Tanh()\n",
        "        )\n",
        "\n",
        "    def forward(self, input: torch.Tensor) -> torch.Tensor:\n",
        "        out = self.model(input)\n",
        "        return out"
      ],
      "metadata": {
        "id": "101Ek6oHX6YO"
      },
      "execution_count": null,
      "outputs": []
    },
    {
      "cell_type": "code",
      "source": [
        "class Critic_Discriminator(nn.Module):\n",
        "    def __init__(self):\n",
        "        super(Critic_Discriminator, self).__init__()\n",
        "\n",
        "        self.model = nn.Sequential(\n",
        "            nn.Conv2d(3, IMAGE_DIM, 4, 2, 1, bias=False),\n",
        "            nn.LeakyReLU(0.2, True),\n",
        "\n",
        "            nn.Conv2d(IMAGE_DIM, 128, 4, 2, 1, bias=False),\n",
        "            nn.BatchNorm2d(128),\n",
        "            nn.LeakyReLU(0.2, True),\n",
        "\n",
        "            nn.Conv2d(128, 256, 4, 2, 1, bias=False),\n",
        "            nn.BatchNorm2d(256),\n",
        "            nn.LeakyReLU(0.2, True),\n",
        "\n",
        "            nn.Conv2d(256, 512, 4, 2, 1, bias=False),\n",
        "            nn.BatchNorm2d(512),\n",
        "            nn.LeakyReLU(0.2, True),\n",
        "\n",
        "            nn.Conv2d(512, 1, 4, 1, 0),\n",
        "        )\n",
        "\n",
        "    def forward(self, input: torch.Tensor) -> torch.Tensor:\n",
        "        out = torch.flatten(self.model(input))\n",
        "        return out"
      ],
      "metadata": {
        "id": "Nv_wWuVmZIng"
      },
      "execution_count": null,
      "outputs": []
    },
    {
      "cell_type": "code",
      "source": [
        "generator = Generator()\n",
        "if os.path.exists(PATH+'generator_cifar10_model.pth'):\n",
        "    generator.load_state_dict(torch.load(PATH+'generator_cifar10_model.pth'))\n",
        "    print(\"loaded last model!\")\n",
        "\n",
        "critic_discriminator = Critic_Discriminator()\n",
        "\n",
        "generator.to(device)\n",
        "critic_discriminator.to(device)"
      ],
      "metadata": {
        "id": "yuqt3fTeZ-8m"
      },
      "execution_count": null,
      "outputs": []
    },
    {
      "cell_type": "code",
      "source": [
        "g_optim = torch.optim.RMSprop(generator.parameters(), lr=ALPHA)\n",
        "c_optim = torch.optim.RMSprop(critic_discriminator.parameters(), lr=ALPHA)"
      ],
      "metadata": {
        "id": "M9gYFmRXh1zj"
      },
      "execution_count": null,
      "outputs": []
    },
    {
      "cell_type": "code",
      "source": [
        "test_noise = torch.randn(BATCH_SIZE, NOISE_DIM, 1, 1).to(device)\n",
        "\n",
        "generator.train()\n",
        "critic_discriminator.train()\n",
        "\n",
        "g_loss_lst = []\n",
        "c_loss_lst = []\n",
        "output_noise_images = []\n",
        "\n",
        "for epoch_num in range(1,NUM_EPOCHS+1):\n",
        "    g_epoch_error = 0.0\n",
        "    c_epoch_error = 0.0\n",
        "    for batch_idx, data in enumerate(trainloader):\n",
        "        batch_imgs, _ = data\n",
        "        real_data = batch_imgs.to(device)\n",
        "        train_noise = torch.randn(BATCH_SIZE, NOISE_DIM, 1, 1).to(device)\n",
        "        fake_data = generator(train_noise)\n",
        "\n",
        "        c_optim.zero_grad()\n",
        "        total_critic_error = critic_discriminator(fake_data).mean() - critic_discriminator(real_data).mean()\n",
        "        total_critic_error.backward()\n",
        "        c_optim.step()\n",
        "        for p in critic_discriminator.parameters(): \n",
        "            p.data.clamp_(-CLAMP_VALUE, CLAMP_VALUE) #LIPCHITZ FUNCTION F REQUIREMENT\n",
        "        c_epoch_error += -1*total_critic_error #make it positive\n",
        "        \n",
        "        if (batch_idx+1)%NUM_EPOCH_PER_GENERATOR_UPDATE==0:\n",
        "            fake_data = generator(torch.randn(BATCH_SIZE, NOISE_DIM, 1, 1).to(device))\n",
        "            g_optim.zero_grad()\n",
        "            error_generator = -critic_discriminator(fake_data).mean()\n",
        "            error_generator.backward()\n",
        "            g_optim.step()\n",
        "            g_epoch_error += error_generator\n",
        "\n",
        "    print('Epoch {}: Critic_loss: {:.3f} Generator_loss: {:.3f}'.format(epoch_num, c_epoch_error, g_epoch_error))\n",
        "    g_loss_lst.append(g_epoch_error.item())\n",
        "    c_loss_lst.append(c_epoch_error.item())\n",
        "\n",
        "    if epoch_num%NUM_EPOCH_PER_GENERATOR_TEST==0:\n",
        "        fake_img = generator(test_noise).cpu().detach()\n",
        "        output_noise_images.append(grid_creation(fake_img))\n",
        "\n",
        "\n",
        "torch.save(generator.state_dict(), PATH+'generator_cifar10_model.pth')\n",
        "print('Saved generator_cifar10_model')"
      ],
      "metadata": {
        "id": "asrEopMdbZDf"
      },
      "execution_count": null,
      "outputs": []
    },
    {
      "cell_type": "code",
      "source": [
        "plt.plot(c_loss_lst, label='Discriminator Losses')\n",
        "plt.plot(g_loss_lst, label='Generator Losses')\n",
        "plt.legend()\n",
        "plt.savefig(PATH+'total_loss.png')"
      ],
      "metadata": {
        "id": "8H41iNMmkNdT"
      },
      "execution_count": null,
      "outputs": []
    },
    {
      "cell_type": "code",
      "source": [
        "from PIL import Image \n",
        "for idx,img in enumerate(output_noise_images):\n",
        "    permuted_img = (img.permute(2,1,0) * 255).cpu().numpy().astype(np.uint8)\n",
        "    plt.imshow(permuted_img)\n",
        "    pil_img = transforms.ToPILImage()(img)\n",
        "    pil_img.save(PATH+'image_'+str(idx)+'.jpg')"
      ],
      "metadata": {
        "id": "UbNgtULGkSER"
      },
      "execution_count": null,
      "outputs": []
    }
  ]
}