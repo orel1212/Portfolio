{
 "nbformat": 4,
 "nbformat_minor": 0,
 "metadata": {
  "accelerator": "GPU",
  "colab": {
   "name": "defense_method_step_sqrt_0.2.ipynb",
   "provenance": [],
   "collapsed_sections": []
  },
  "kernelspec": {
   "display_name": "Python 3",
   "language": "python",
   "name": "python3"
  },
  "language_info": {
   "codemirror_mode": {
    "name": "ipython",
    "version": 3
   },
   "file_extension": ".py",
   "mimetype": "text/x-python",
   "name": "python",
   "nbconvert_exporter": "python",
   "pygments_lexer": "ipython3",
   "version": "3.8.1"
  }
 },
 "cells": [
  {
   "cell_type": "code",
   "metadata": {
    "id": "6EeIGF6t0cl7",
    "pycharm": {
     "name": "#%%\n"
    }
   },
   "source": [
    "import os\n",
    "from google.colab import drive\n",
    "\n",
    "drive.mount('/content/drive')\n",
    "% cd /content/drive/MyDrive/Attack_detection/"
   ],
   "execution_count": null,
   "outputs": []
  },
  {
   "cell_type": "code",
   "metadata": {
    "id": "yjqP1DashRUf",
    "pycharm": {
     "name": "#%%\n"
    }
   },
   "source": [
    "import sys\n",
    "import math\n",
    "\n",
    "import pickle\n",
    "import os\n",
    "import time\n",
    "\n",
    "import numpy as np\n",
    "import pandas as pd\n",
    "\n",
    "import torch\n",
    "\n",
    "import matplotlib as mpl\n",
    "\n",
    "import matplotlib.pyplot as plt\n",
    "from tqdm import tqdm\n",
    "from numpy import linalg as LA\n",
    "\n",
    "from torchvision import transforms\n",
    "from PIL import Image\n",
    "\n",
    "from numpy import random\n",
    "\n",
    "from sklearn.metrics import confusion_matrix, roc_auc_score\n",
    "\n",
    "import seaborn as sns\n",
    "\n",
    "\n",
    "% cd / content / drive / MyDrive / Attack_detection / yolov5 / yolov5\n",
    "\n",
    "from models.experimental import attempt_load\n",
    "from utils.general import non_max_suppression, check_img_size\n",
    "from utils.torch_utils import time_synchronized\n",
    "\n",
    "% cd / content / drive / MyDrive / Attack_detection /\n",
    "% matplotlib inline"
   ],
   "execution_count": null,
   "outputs": []
  },
  {
   "cell_type": "code",
   "metadata": {
    "id": "onVbxgVW8aBm",
    "pycharm": {
     "name": "#%%\n"
    }
   },
   "source": [
    "def calc_iou(box1, box2):\n",
    "    \"\"\"\n",
    "    Calculates the Intersection over Union of two rectangles in shape [xmin, ymin, xmax, ymax]\n",
    "    \"\"\"\n",
    "    xmin, ymin, xmax, ymax = 0, 1, 2, 3\n",
    "    dx = min(box1[xmax], box2[xmax]) - max(box1[xmin], box2[xmin])\n",
    "    dy = min(box1[ymax], box2[ymax]) - max(box1[ymin], box2[ymin])\n",
    "    if dx <= 0 or dy <= 0:\n",
    "        return 0\n",
    "\n",
    "    def area(box):\n",
    "        return (box[xmax] - box[xmin]) * (box[ymax] - box[ymin])\n",
    "\n",
    "    overlap = dx * dy\n",
    "    return overlap / (area(box1) + area(box2) - overlap)\n",
    "\n",
    "\n",
    "def get_pairs(original, segmented, num_objects):\n",
    "    \"\"\"\n",
    "    Returns the pairs of corresponding objects that have the highest IOU\n",
    "    \"\"\"\n",
    "    pairs = []\n",
    "    original_length = min(num_objects, len(original))\n",
    "    segmented_length = min(num_objects, len(segmented))\n",
    "    for i in range(original_length):\n",
    "        for j in range(segmented_length):\n",
    "            iou = calc_iou(np.array(original[i]), np.array(segmented[j]))\n",
    "            pairs.append([i, j, iou])\n",
    "    good_pairs = {}\n",
    "    taken_js = []\n",
    "    for i, j, iou in sorted(pairs, key=lambda x: x[2], reverse=True):\n",
    "        if i in good_pairs or j in taken_js:\n",
    "            continue\n",
    "        good_pairs[i] = [j, iou]\n",
    "        taken_js.append(j)\n",
    "    return good_pairs"
   ],
   "execution_count": null,
   "outputs": []
  },
  {
   "cell_type": "code",
   "metadata": {
    "id": "09MjtOGw8gf0",
    "pycharm": {
     "name": "#%%\n"
    }
   },
   "source": [
    "# 0: boxes, 1: scores, 2: classes, 3: nums\n",
    "def diff_outputs_helper(original, segmented, num_objects, threshold):\n",
    "    \"\"\"\n",
    "    Returns the score of a pair of original and segmented given the num of objects and threshold\n",
    "    \"\"\"\n",
    "    boxes, scores, classes, nums = 0, 1, 2, 3\n",
    "\n",
    "    pairs = get_pairs(original[boxes], segmented[boxes], num_objects)\n",
    "    new_pairs = []\n",
    "    pairs_length = min(num_objects, len(pairs))\n",
    "    available_keys = pairs.keys()\n",
    "    for i in range(pairs_length):\n",
    "        if i not in available_keys:  #fix because of get_pairs sort, some keys are missing.\n",
    "            continue\n",
    "        j, iou = pairs[i]\n",
    "        new_pairs.append([\n",
    "            [i, original[classes][i], original[scores][i]],\n",
    "            [j, segmented[classes][j], segmented[scores][j]],\n",
    "            iou])\n",
    "    score = 0\n",
    "    num_good_objects = min(num_objects, len(pairs))\n",
    "    for o, s, iou in new_pairs:\n",
    "        if o[2] < threshold and s[2] < threshold:\n",
    "            num_good_objects -= 1\n",
    "        else:\n",
    "            score += (o[1] == s[1]) * int(math.pow(abs(o[2] - s[2]), 0.5) < 0.2) * iou\n",
    "    return score / num_good_objects if num_good_objects > 0 else 0\n",
    "\n",
    "\n",
    "def create_diffs(clean_inferences, clean_seg_inferences, attacked_inferences, attacked_seg_inferences, threshold=0.3,\n",
    "                 num_objects=5, idxs=None):\n",
    "    '''\n",
    "    difference in images non-segmented,segmented -> (image_idx, avg similarity)\n",
    "    '''\n",
    "    #Actually the function that should detect adversarial\n",
    "    diffs = []\n",
    "    diffs_attacked = []\n",
    "    lst = idxs if idxs else range(len(attacked_seg_inferences))\n",
    "    for i in lst:  # [(img_idx, )]\n",
    "        diffs.append((i, diff_outputs_helper(clean_inferences[i], clean_seg_inferences[i], num_objects, threshold)))\n",
    "    for i in lst:\n",
    "        diffs_attacked.append(\n",
    "            (i, diff_outputs_helper(attacked_inferences[i], attacked_seg_inferences[i], num_objects, threshold)))\n",
    "    return [diffs, diffs_attacked]"
   ],
   "execution_count": null,
   "outputs": []
  },
  {
   "cell_type": "code",
   "metadata": {
    "id": "WXCh9cy6X-Yr",
    "pycharm": {
     "name": "#%%\n"
    }
   },
   "source": [
    "def get_predictions(device, model, input_transform, img_src_path, classes, iou_thres=0.6, conf_thres=0.001,\n",
    "                    num_of_objects=np.inf):\n",
    "    model.eval()\n",
    "\n",
    "    img = Image.open(img_src_path).convert('RGB')\n",
    "    img = input_transform(img).unsqueeze(0)\n",
    "\n",
    "    curr_shape = img.shape  #[1,c,h,w]\n",
    "    h = curr_shape[2]\n",
    "    w = curr_shape[3]\n",
    "    stride = int(model.stride.max())  # model stride\n",
    "    imgsz_h_stride = check_img_size(h, s=stride)  # check img_size\n",
    "    imgsz_w_stride = check_img_size(w, s=stride)  # check img_size\n",
    "\n",
    "    if imgsz_h_stride != h or imgsz_w_stride != w:\n",
    "        print(\n",
    "            \"dims need reshaping: \" + str(h) + \"->\" + str(imgsz_h_stride) + \" | \" + str(w) + \"->\" + str(imgsz_w_stride))\n",
    "        print(\"if dim got bigger, padding with zeros!\")\n",
    "        h_pad_size = imgsz_h_stride - h\n",
    "        w_pad_size = imgsz_w_stride - w\n",
    "        '''\n",
    "        (N,C,H_in,W_in) - > (N,C,H_out,W_out)\n",
    "        (padding_left , padding_right, padding_top ,padding_bottom )\n",
    "        H_out=H_in+padding_top+padding_bottom\n",
    "        W_out=W_in+padding_left+padding_right\n",
    "        '''\n",
    "        img = torch.nn.functional.pad(input=img, pad=(w_pad_size, 0, h_pad_size, 0), mode='constant', value=0)\n",
    "        print(\"new dims: \" + str(img.shape))\n",
    "\n",
    "    img = img.to(device)\n",
    "\n",
    "    # Inference\n",
    "    t1 = time_synchronized()\n",
    "\n",
    "    pred, train_out = model(img)  # pred inference and training outputs\n",
    "\n",
    "    # Apply NMS\n",
    "    pred = non_max_suppression(pred, conf_thres=conf_thres, iou_thres=iou_thres, classes=classes, agnostic=False,\n",
    "                               multi_label=True)\n",
    "\n",
    "    t2 = time_synchronized()\n",
    "\n",
    "    boxes, scores, classes = [], [], []\n",
    "    # Process detections\n",
    "    for j, det in enumerate(pred):  # detections per image\n",
    "\n",
    "        for z, row in enumerate(det):  #boxes,scores,classes in det[1]\n",
    "\n",
    "            box, score, cls = [row[0].item(), row[1].item(), row[2].item(), row[3].item()], row[4].item(), row[5].item()\n",
    "\n",
    "            boxes.append(box)\n",
    "            scores.append(score)\n",
    "            classes.append(cls)\n",
    "\n",
    "            if z + 1 == num_of_objects:  #get only num_of_objects at maximum\n",
    "                break\n",
    "\n",
    "    return [boxes, scores, classes]"
   ],
   "execution_count": null,
   "outputs": []
  },
  {
   "cell_type": "code",
   "metadata": {
    "id": "M0TYfeGr4Qb8",
    "pycharm": {
     "name": "#%%\n"
    }
   },
   "source": [
    "def img_path(i, clean=True, seg=False, alpha=None):\n",
    "    \"\"\"\n",
    "    This function returns the path of an image\n",
    "    Arguments:\n",
    "    i -- the index of the frame as was saved in segmentation notebook\n",
    "    Keyword arguments:\n",
    "    clean -- whether to search in clean folder or attacked folder (default True)\n",
    "    seg -- whether to search for segmented image or not (default False)\n",
    "    alpha -- the alpha transparency\n",
    "    \"\"\"\n",
    "    loc = \"_clean\" if clean else \"_attacked\"\n",
    "    ext = \"_seg\" if seg else \"\"\n",
    "    t = \";{0}\".format(alpha) if alpha else \"\"\n",
    "    return dataset_source + \"/frame{0}{1}_{2}{3}.png\".format(loc, ext, i, t)\n",
    "\n",
    "\n",
    "def get_all_preds(device, model, input_transform, alpha, classes, iou_thres=0.6, conf_thres=0.001,\n",
    "                  num_of_objects=np.inf, num_of_images=500):\n",
    "    \"\"\"\n",
    "    Returns all preds for given alpha\n",
    "    shape per image is [boxes,confs_score,classes]\n",
    "    \"\"\"\n",
    "    ret = []\n",
    "    idxs = (num_of_images)\n",
    "    ret.append([get_predictions(device, model, input_transform, img_path(i, clean=True, seg=False, alpha=alpha),\n",
    "                                classes, iou_thres, conf_thres, num_of_objects) for i in range(idxs)])  # clean\n",
    "    ret.append([get_predictions(device, model, input_transform, img_path(i, clean=True, seg=True, alpha=alpha), classes,\n",
    "                                iou_thres, conf_thres, num_of_objects) for i in range(idxs)])  # clean seg\n",
    "    ret.append([get_predictions(device, model, input_transform, img_path(i, clean=False, seg=False, alpha=alpha),\n",
    "                                classes, iou_thres, conf_thres, num_of_objects) for i in range(idxs)])  # attacked\n",
    "    ret.append([get_predictions(device, model, input_transform, img_path(i, clean=False, seg=True, alpha=alpha),\n",
    "                                classes, iou_thres, conf_thres, num_of_objects) for i in range(idxs)])  # attacked seg\n",
    "    return ret"
   ],
   "execution_count": null,
   "outputs": []
  },
  {
   "cell_type": "code",
   "metadata": {
    "id": "G6s854naoL-N",
    "pycharm": {
     "name": "#%%\n"
    }
   },
   "source": [
    "\n",
    "device = torch.device(\"cuda\" if torch.cuda.is_available() else \"cpu\")\n",
    "\n",
    "weights = './yolov5/yolov5/yolov5x.pt'\n",
    "model = attempt_load(weights, map_location=device)\n",
    "\n",
    "dataset_source = './SCNN_attack_output_alphas'\n",
    "\n",
    "input_transform = transforms.Compose([\n",
    "    transforms.ToTensor(), ])\n",
    "\n",
    "alphas = [0.2, 0.25, 0.3, 0.35, 0.4, 0.45, 0.5, 0.55, 0.6, 0.75, 0.9, 1]\n",
    "\n",
    "num_of_images = 500\n",
    "\n",
    "object_conf_thres = 0.25\n",
    "\n",
    "iou_thres = 0.45  # for NMS\n",
    "\n",
    "num_of_objects = 5\n",
    "\n",
    "classes_to_filter = None  # filter by class: --class 0, or --class 0 2 3. | None may be problematic, but no need to Filter\n",
    "\n",
    "run_all_preds = True\n",
    "if run_all_preds:\n",
    "    all_inferences = {\n",
    "        alpha: get_all_preds(device, model, input_transform, alpha, classes_to_filter, iou_thres, object_conf_thres,\n",
    "                             num_of_objects, num_of_images) for alpha in alphas}\n",
    "    with open(dataset_source + '/all_inferences.pickle', 'wb') as f:\n",
    "        pickle.dump(all_inferences, f)\n",
    "else:\n",
    "    with open(dataset_source + '/all_inferences.pickle', 'rb') as f:\n",
    "        all_inferences = pickle.load(f)\n",
    "\n",
    "clean_i, clean_seg_i, attacked_i, attacked_seg_i = 0, 1, 2, 3\n",
    "\n",
    "\n",
    "\n",
    "\n",
    "\n"
   ],
   "execution_count": null,
   "outputs": []
  },
  {
   "cell_type": "code",
   "metadata": {
    "id": "ZYEbSwR6z-lM",
    "pycharm": {
     "name": "#%%\n"
    }
   },
   "source": [
    "\n",
    "run_all_inferences_diffs = True\n",
    "if run_all_inferences_diffs:\n",
    "    all_inferences_diffs = {}\n",
    "    for alpha in alphas:\n",
    "        clean_inferences = all_inferences[alpha][clean_i]\n",
    "        clean_seg_inferences = all_inferences[alpha][clean_seg_i]\n",
    "        attacked_inferences = all_inferences[alpha][attacked_i]\n",
    "        attacked_seg_inferences = all_inferences[alpha][attacked_seg_i]\n",
    "\n",
    "        print(\"Starting to create diffs for alpha: \" + str(alpha))\n",
    "        all_inferences_diffs[alpha] = create_diffs(clean_inferences, clean_seg_inferences, attacked_inferences,\n",
    "                                                   attacked_seg_inferences, object_conf_thres, num_of_objects)\n",
    "        print(\"finished diffs for alpha: \" + str(alpha))\n",
    "\n",
    "    with open(dataset_source + '/all_inferences_diffs.pickle', 'wb') as f:\n",
    "        pickle.dump(all_inferences_diffs, f)\n",
    "else:\n",
    "    with open(dataset_source + '/all_inferences_diffs.pickle', 'rb') as f:\n",
    "        all_inferences_diffs = pickle.load(f)\n",
    "\n"
   ],
   "execution_count": null,
   "outputs": []
  },
  {
   "cell_type": "code",
   "metadata": {
    "id": "PzK3Bs7L_CGq",
    "pycharm": {
     "name": "#%%\n"
    }
   },
   "source": [
    "def plot_cm(cm):\n",
    "    group_names = ['True Negative', 'False Positive', 'False Negative', 'True Positive']\n",
    "    group_counts = [\"{0:0.0f}\".format(value) for value in cm.flatten()]\n",
    "    labels = [f\"{v1}\\n{v3}\\n\\n{v2}\" for (v1, v3), v2 in\n",
    "              zip([x.split() for x in group_names], group_counts)]\n",
    "    labels = np.asarray(labels).reshape(2, 2)\n",
    "    fig = sns.heatmap(cm, annot=labels, fmt='', cmap='Blues')\n",
    "    plt.xlabel(\"Predicted\", fontsize=12)\n",
    "    plt.ylabel(\"True\", fontsize=12)\n",
    "    plt.show(fig)\n",
    "\n",
    "\n",
    "def get_metrics_and_plot(rand_mean_times, start_valid_idx, end_valid_idx, training_set_sizes, all_inferences_diffs,\n",
    "                         alpha=0.5, plot=False):\n",
    "    print(\"Calculating metrics for alpha: \" + str(alpha))\n",
    "    valid_size = end_valid_idx - start_valid_idx\n",
    "    diffs, diffs_attacked = all_inferences_diffs[alpha]\n",
    "    thresholds = []\n",
    "    for i in training_set_sizes:\n",
    "        res = []\n",
    "        for j in range(rand_mean_times):\n",
    "            tmp = np.random.choice([y for (x, y) in diffs], i).mean()\n",
    "            res.append(tmp)\n",
    "        thresholds.append(sum(res) / len(res))\n",
    "\n",
    "    all_metrics = []\n",
    "    new_scores = [y for (x, y) in diffs[start_valid_idx:end_valid_idx]] + [y for (x, y) in diffs_attacked[\n",
    "                                                                                           start_valid_idx:end_valid_idx]]\n",
    "    new_scores = np.array(new_scores)\n",
    "    y_true = np.array([0] * valid_size + [1] * valid_size)  # 0 is benign, 1 is attacked\n",
    "    y_preds = []\n",
    "    for threshold in thresholds:\n",
    "        y_pred = np.array([int(pred < threshold) for pred in new_scores])\n",
    "        y_preds.append(y_pred)\n",
    "        cm = confusion_matrix(y_true, y_pred)\n",
    "        tn = cm[0][0]\n",
    "        fn = cm[1][0]\n",
    "        tp = cm[1][1]\n",
    "        fp = cm[0][1]\n",
    "        #plot_cm(cm)\n",
    "        accuracy = (tn + tp) / (tn + fp + fn + tp) if tn + tp > 0 else 0\n",
    "        false_discovery_rate = fp / (tp + fp) if fp > 0 else 0\n",
    "        negative_predictive_value = tn / (tn + fn) if tn > 0 else 0\n",
    "        true_negative_rate = tn / (tn + fp) if tn > 0 else 0\n",
    "        false_negative_rate = fn / (tp + fn) if fn > 0 else 0\n",
    "        recall = tp / (tp + fn) if tp > 0 else 0\n",
    "        precision = tp / (tp + fp) if tp > 0 else 0\n",
    "        f1 = 2 * (precision * recall) / (precision + recall) if precision + recall > 0 else 0\n",
    "        roc_auc = roc_auc_score(y_true, y_pred)\n",
    "        metrics = [threshold, tp, fp, tn, fn, accuracy, false_discovery_rate, negative_predictive_value,\n",
    "                   true_negative_rate, false_negative_rate, recall, precision, f1, roc_auc]\n",
    "        all_metrics.append(metrics)\n",
    "    all_metrics = np.array(all_metrics)\n",
    "    cols = [\"Threshold\", \"TP\", \"FP\", \"TN\", \"FN\",\n",
    "            \"Accuracy\", \"False Discovery Rate\", \"Negative Predictive Value\", \"True Negative Rate\",\n",
    "            \"False Negative Rate\", \"Recall\", \"Precision\", \"F1\", \"ROC AUC\"]\n",
    "    df = pd.DataFrame(all_metrics, columns=cols)\n",
    "    print(df)\n",
    "\n",
    "    if plot == True:\n",
    "        mpl.rcParams.update(mpl.rcParamsDefault)\n",
    "        fig, axs = plt.subplots(3, 3, figsize=(11, 10))\n",
    "        colors = ['#1B5C7C', '#1B7C58', '#AF5F9D',\n",
    "                  '#F6931C', '#1CF6CA', '#1C5DF6',\n",
    "                  '#F61C78', '#446B41', '#1CE40E']\n",
    "        i = 0\n",
    "        for col in [\"TP\", \"FP\", \"TN\", \"FN\",\n",
    "                    \"Accuracy\", \"Recall\", \"Precision\", \"F1\", \"ROC AUC\"]:\n",
    "            ax = axs[i // 3, i % 3]\n",
    "            df[col].plot(color=colors[i], ax=ax)\n",
    "            ax.set_title(col)\n",
    "            i += 1\n",
    "        plt.show()\n",
    "        return new_scores, y_true\n",
    "\n",
    "\n"
   ],
   "execution_count": null,
   "outputs": []
  },
  {
   "cell_type": "code",
   "metadata": {
    "id": "fGfU60kS9U-G",
    "pycharm": {
     "name": "#%%\n"
    }
   },
   "source": [
    "start_valid_idx = 0\n",
    "\n",
    "end_valid_idx = 500\n",
    "\n",
    "rand_mean_times = 3  #number of times to do random choice of size training_set_size to create threshold, averaging this number of times to reduce noises\n",
    "\n",
    "training_set_sizes = [50, 100, 150, 200, 250, 300, 350, 400]\n",
    "\n",
    "plot = True\n",
    "\n",
    "for alpha in alphas:\n",
    "    y_preds, y_true = get_metrics_and_plot(rand_mean_times, start_valid_idx, end_valid_idx, training_set_sizes,\n",
    "                                           all_inferences_diffs, alpha, plot)"
   ],
   "execution_count": null,
   "outputs": []
  },
  {
   "cell_type": "code",
   "metadata": {
    "id": "iD_aFa8qz-lO",
    "outputId": "8ea0c30d-1927-44bb-efb6-1be28c69eec2",
    "pycharm": {
     "name": "#%%\n"
    }
   },
   "source": [
    "plt.title('Adversarial Detection Scores')\n",
    "plt.hist(y_preds[:500], color='darkgreen', bins=70, alpha=0.6)\n",
    "plt.hist(y_preds[500:], color='darkred', bins=70, alpha=0.6)\n",
    "plt.legend(['Benign', 'Adv'])\n",
    "plt.xlabel('score')\n",
    "plt.ylabel('Frequency')\n",
    "plt.show()"
   ],
   "execution_count": null,
   "outputs": [
    {
     "output_type": "display_data",
     "data": {
      "image/png": "[encoded data removed]",
      "text/plain": [
       "<Figure size 640x480 with 1 Axes>"
      ]
     },
     "metadata": {
      "tags": []
     }
    }
   ]
  },
  {
   "cell_type": "markdown",
   "metadata": {
    "id": "PcvnJ2ndz-lO",
    "pycharm": {
     "name": "#%% md\n"
    }
   },
   "source": [
    "# Quantitative results"
   ]
  },
  {
   "cell_type": "code",
   "metadata": {
    "id": "HpQ1TyZkz-lO",
    "outputId": "8fad0b65-98b8-4cde-a90c-06a37a4a1694",
    "pycharm": {
     "name": "#%%\n"
    }
   },
   "source": [
    "from sklearn.metrics import roc_auc_score, precision_recall_curve, auc\n",
    "\n",
    "precision, recall, thresholds = precision_recall_curve(y_true, y_preds)\n",
    "print(f'AUCROC {roc_auc_score(1 - y_true, y_preds)}')"
   ],
   "execution_count": null,
   "outputs": [
    {
     "output_type": "stream",
     "text": [
      "AUCROC 0.601448\n"
     ],
     "name": "stdout"
    }
   ]
  },
  {
   "cell_type": "code",
   "metadata": {
    "id": "qDhuPwukz-lP",
    "pycharm": {
     "name": "#%%\n"
    }
   },
   "source": [
    "benign_scores = y_preds[:500]\n",
    "adv_scores = y_preds[500:]"
   ],
   "execution_count": null,
   "outputs": []
  },
  {
   "cell_type": "code",
   "metadata": {
    "id": "pB3hypa5z-lP",
    "pycharm": {
     "name": "#%%\n"
    }
   },
   "source": [
    "\n",
    "def search_thers(score, level):\n",
    "    step = 0.000001\n",
    "    val = 0\n",
    "    eps = 0.01\n",
    "    while True:\n",
    "        TNR = (score >= val).sum().item() / len(score)\n",
    "        if TNR <= level + eps and TNR >= level - eps:\n",
    "            return val\n",
    "        elif TNR > level:\n",
    "            val += step\n",
    "        else:\n",
    "            val = val - step\n",
    "            step = step * 0.1\n",
    "    return val"
   ],
   "execution_count": null,
   "outputs": []
  },
  {
   "cell_type": "code",
   "metadata": {
    "id": "5V0KSpoPz-lP",
    "pycharm": {
     "name": "#%%\n"
    }
   },
   "source": [
    "thres95 = search_thers(benign_scores, 0.95)\n",
    "TNR95 = (adv_scores < thres95).sum().item() / len(adv_scores)\n",
    "print(TNR95)"
   ],
   "execution_count": null,
   "outputs": []
  },
  {
   "cell_type": "code",
   "metadata": {
    "id": "EjaPvPh1z-lP",
    "pycharm": {
     "name": "#%%\n"
    }
   },
   "source": [
    "thres95"
   ],
   "execution_count": null,
   "outputs": []
  },
  {
   "cell_type": "code",
   "metadata": {
    "id": "_tx8lAZbz-lQ",
    "pycharm": {
     "name": "#%%\n"
    }
   },
   "source": [
    "(benign_scores > thres95).sum().item() / len(benign_scores)\n",
    "#should be ~0.95"
   ],
   "execution_count": null,
   "outputs": []
  },
  {
   "cell_type": "code",
   "metadata": {
    "id": "ReRyJg8mz-lQ",
    "pycharm": {
     "name": "#%%\n"
    }
   },
   "source": [],
   "execution_count": null,
   "outputs": []
  }
 ]
}