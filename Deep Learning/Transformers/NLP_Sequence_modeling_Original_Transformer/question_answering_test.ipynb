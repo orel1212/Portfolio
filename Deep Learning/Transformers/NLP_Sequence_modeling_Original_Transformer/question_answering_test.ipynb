{
 "cells": [
  {
   "cell_type": "code",
   "execution_count": 1,
   "metadata": {},
   "outputs": [],
   "source": [
    "import torch\n",
    "from transformer import Transformer\n",
    "from torch.utils.data import Dataset\n",
    "import torch.utils.data\n",
    "from transformers import GPT2Tokenizer"
   ]
  },
  {
   "cell_type": "code",
   "execution_count": 2,
   "metadata": {},
   "outputs": [],
   "source": [
    "import json\n",
    "from pathlib import Path"
   ]
  },
  {
   "cell_type": "code",
   "execution_count": 4,
   "metadata": {},
   "outputs": [
    {
     "name": "stdout",
     "output_type": "stream",
     "text": [
      "device:cuda\n",
      "vocab_tokenizer size:50257\n"
     ]
    }
   ],
   "source": [
    "seq_len = 30\n",
    "encoder_layers = 6\n",
    "decoder_layers = 6\n",
    "\n",
    "embed_dim = 512\n",
    "num_heads = 8\n",
    "\n",
    "device = torch.device(\"cuda\" if torch.cuda.is_available() else \"cpu\")\n",
    "print(\"device:\" +str(device))\n",
    "\n",
    "tokenizer = GPT2Tokenizer.from_pretrained('gpt2')\n",
    "pad_token = 0\n",
    "\n",
    "vocab_size = len(tokenizer) # FROM GPT2\n",
    "print(f\"vocab_tokenizer size:{vocab_size}\")\n"
   ]
  },
  {
   "cell_type": "code",
   "execution_count": 5,
   "metadata": {},
   "outputs": [],
   "source": [
    "def encode_question_tokenizer(question_words,seq_len, tokenizer, pad_token):\n",
    "    enc_q_without_pad = tokenizer.encode(question_words, add_special_tokens=True, truncation=True, max_length=seq_len)\n",
    "    padding_len = seq_len - len(enc_q_without_pad)\n",
    "    enc_q = enc_q_without_pad + [pad_token] * padding_len \n",
    "    return enc_q\n",
    "\n",
    "def encode_answer_tokenizer(answer_words,seq_len, tokenizer, pad_token):\n",
    "    enc_a_without_pad = tokenizer.encode(answer_words, add_special_tokens=True, truncation=True , max_length=seq_len)\n",
    "    padding_len = seq_len - len(enc_a_without_pad)\n",
    "    enc_a = [tokenizer.bos_token_id] + enc_a_without_pad + [tokenizer.eos_token_id] + [pad_token] * padding_len\n",
    "    return enc_a"
   ]
  },
  {
   "cell_type": "code",
   "execution_count": 6,
   "metadata": {},
   "outputs": [],
   "source": [
    "def create_mask(input_seq, mask_flag='q'):\n",
    "    curr_seq_len = input_seq.size(-1)\n",
    "    input_mask =  input_seq != 0\n",
    "    if mask_flag == 'q': #no need to mask future, as it goes thorugh encoder\n",
    "        question_mask = input_mask.unsqueeze(1).unsqueeze(1)         \n",
    "        mask = question_mask # required dims : [batch_size, 1, 1, seq_len]\n",
    "    elif mask_flag == 'a': # need to mask future, as it goes thorugh decoder, via triu-transpose\n",
    "        answer_mask = input_mask.unsqueeze(1)\n",
    "        answer_mask = answer_mask & torch.triu(torch.ones(curr_seq_len, curr_seq_len)).transpose(0, 1).type(dtype=torch.uint8).unsqueeze(0).type_as(answer_mask.data) \n",
    "        answer_mask = answer_mask.unsqueeze(1)\n",
    "        mask = answer_mask # required dims: [batch_size, 1, seq_len, seq_len]\n",
    "    else: #mask_flag == 't' # need only for loss\n",
    "        mask = input_mask # required dims: [batch_size, seq_len] \n",
    "    return mask"
   ]
  },
  {
   "cell_type": "code",
   "execution_count": 7,
   "metadata": {},
   "outputs": [
    {
     "name": "stdout",
     "output_type": "stream",
     "text": [
      "load model of epoch: 1\n"
     ]
    }
   ],
   "source": [
    "epoch_model_to_load = 1\n",
    "load_model = torch.load('model_epoch_' + str(epoch_model_to_load) + '.pth',map_location=device)\n",
    "model = load_model['model']\n",
    "print(\"load model of epoch: \"+str(epoch_model_to_load))"
   ]
  },
  {
   "cell_type": "code",
   "execution_count": 8,
   "metadata": {},
   "outputs": [],
   "source": [
    "def testing(model, q, seq_len ,req_len, tokenizer, pad_token ,device):\n",
    "    \n",
    "    def answer_creation(target_seq,tokenizer):\n",
    "        if target_seq.dim() > 1: #squeeze batch dim\n",
    "            target_seq = target_seq.squeeze(0)\n",
    "\n",
    "        target_seq = target_seq.tolist()[1:] #avoid bos token\n",
    "        if target_seq[-1] == tokenizer.eos_token_id:\n",
    "            target_seq = target_seq[:-1] #avoid eos token\n",
    "            \n",
    "        answer = ''\n",
    "        for i,w_idx in enumerate(target_seq):\n",
    "            decoded_w = tokenizer.decode(w_idx).strip()\n",
    "            curr_w = str(decoded_w).lower()\n",
    "            if i == 0:\n",
    "                curr_w = curr_w.capitalize()\n",
    "            curr_update = ''\n",
    "            if i!= len(target_seq)-1:\n",
    "                curr_update = curr_w+' '\n",
    "            else:\n",
    "                curr_update = curr_w\n",
    "            answer += curr_update\n",
    "        return answer\n",
    "\n",
    "    model.eval()\n",
    "    \n",
    "    encoded_question = encode_question_tokenizer(q,seq_len, tokenizer, pad_token)\n",
    "    encoded_question = torch.LongTensor(encoded_question).unsqueeze(0).to(device)\n",
    "    question_mask = create_mask(encoded_question, mask_flag='q').to(device)\n",
    "    \n",
    "    target_seq = torch.LongTensor([[tokenizer.bos_token_id]]).to(device) #starts with eos_token\n",
    "    \n",
    "    for j in range(1, req_len):\n",
    "        \n",
    "        target_mask = create_mask(target_seq, mask_flag='a').to(device)\n",
    "        predictions = model(encoded_question, question_mask, target_seq, target_mask)\n",
    "        _, curr_words = torch.max(predictions, dim = 1)\n",
    "        next_word = curr_words[-1]\n",
    "        next_w_idx = next_word.item()\n",
    "        target_seq = torch.cat([target_seq, torch.LongTensor([[next_w_idx]]).to(device)], dim = 1)\n",
    "        if next_w_idx == tokenizer.eos_token_id:\n",
    "            break\n",
    "        \n",
    "    return answer_creation(target_seq,tokenizer)"
   ]
  },
  {
   "cell_type": "code",
   "execution_count": 9,
   "metadata": {},
   "outputs": [
    {
     "name": "stdin",
     "output_type": "stream",
     "text": [
      "Welcome to Q-A system!\n",
      "Tap q to finish.\n",
      "Enter your question:  what is your name?\n"
     ]
    },
    {
     "name": "stdout",
     "output_type": "stream",
     "text": [
      "I dont know\n"
     ]
    },
    {
     "name": "stdin",
     "output_type": "stream",
     "text": [
      "Welcome to Q-A system!\n",
      "Tap q to finish.\n",
      "Enter your question:  how good is your day\n"
     ]
    },
    {
     "name": "stdout",
     "output_type": "stream",
     "text": [
      "I dont know\n"
     ]
    },
    {
     "name": "stdin",
     "output_type": "stream",
     "text": [
      "Welcome to Q-A system!\n",
      "Tap q to finish.\n",
      "Enter your question:  are you a guy\n"
     ]
    },
    {
     "name": "stdout",
     "output_type": "stream",
     "text": [
      "I dont know\n"
     ]
    },
    {
     "name": "stdin",
     "output_type": "stream",
     "text": [
      "Welcome to Q-A system!\n",
      "Tap q to finish.\n",
      "Enter your question:  q\n"
     ]
    }
   ],
   "source": [
    "question = ''\n",
    "while question != 'q':\n",
    "    question = input(\"Welcome to Q-A system!\\nTap q to finish.\\nEnter your question: \") \n",
    "    if question == 'q':\n",
    "        break\n",
    "    req_len = torch.randint(5,seq_len,(1,))\n",
    "    answer = testing(model, question, seq_len, req_len.item(), tokenizer, pad_token ,device)\n",
    "    print(answer)"
   ]
  },
  {
   "cell_type": "code",
   "execution_count": null,
   "metadata": {},
   "outputs": [],
   "source": []
  }
 ],
 "metadata": {
  "kernelspec": {
   "display_name": "Python 3 (ipykernel)",
   "language": "python",
   "name": "python3"
  },
  "language_info": {
   "codemirror_mode": {
    "name": "ipython",
    "version": 3
   },
   "file_extension": ".py",
   "mimetype": "text/x-python",
   "name": "python",
   "nbconvert_exporter": "python",
   "pygments_lexer": "ipython3",
   "version": "3.9.12"
  }
 },
 "nbformat": 4,
 "nbformat_minor": 4
}
